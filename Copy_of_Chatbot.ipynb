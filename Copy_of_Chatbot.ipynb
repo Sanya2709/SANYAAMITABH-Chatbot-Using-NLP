{
  "nbformat": 4,
  "nbformat_minor": 0,
  "metadata": {
    "colab": {
      "provenance": [],
      "authorship_tag": "ABX9TyMtWUEG+mCpgcQJ7FrzaFXj",
      "include_colab_link": true
    },
    "kernelspec": {
      "name": "python3",
      "display_name": "Python 3"
    },
    "language_info": {
      "name": "python"
    }
  },
  "cells": [
    {
      "cell_type": "markdown",
      "metadata": {
        "id": "view-in-github",
        "colab_type": "text"
      },
      "source": [
        "<a href=\"https://colab.research.google.com/github/Sanya2709/SANYAAMITABH-Chatbot-Using-NLP/blob/main/Copy_of_Chatbot.ipynb\" target=\"_parent\"><img src=\"https://colab.research.google.com/assets/colab-badge.svg\" alt=\"Open In Colab\"/></a>"
      ]
    },
    {
      "cell_type": "code",
      "source": [
        "from sklearn.feature_extraction.text import CountVectorizer\n",
        "from sklearn.svm import LinearSVC\n",
        "from sklearn.pipeline import Pipeline\n",
        "\n",
        "# Sample dataset for intent recognition\n",
        "training_data = [\n",
        "    (\"Hi there!\", \"greeting\"),\n",
        "    (\"How can I help you?\", \"greeting\"),\n",
        "    (\"Is my order shipped?\", \"order_status\"),\n",
        "    (\"Where is my package?\", \"order_status\"),\n",
        "    (\"I want to return my order\", \"return\"),\n",
        "    (\"How do I request a refund?\", \"return\"),\n",
        "]\n",
        "\n",
        "# Responses mapping\n",
        "responses = {\n",
        "    'greeting': \"Hello! How can I assist you today?\",\n",
        "    'order_status': \"Let me check the status of your order.\",\n",
        "    'return': \"I can help you with your return request. Please provide more details.\",\n",
        "    'default': \"I'm sorry, I didn't understand that.\"\n",
        "}\n",
        "\n",
        "# Function to generate response based on intent\n",
        "def generate_response(intent):\n",
        "    return responses.get(intent, responses['default'])\n",
        "\n",
        "# Separate data into inputs (X) and labels (y)\n",
        "X_train = [data[0] for data in training_data]\n",
        "y_train = [data[1] for data in training_data]\n",
        "\n",
        "# Initialize CountVectorizer and LinearSVC\n",
        "vectorizer = CountVectorizer()\n",
        "classifier = LinearSVC()\n",
        "\n",
        "# Create pipeline\n",
        "nlu_pipeline = Pipeline([\n",
        "    ('vectorizer', vectorizer),\n",
        "    ('classifier', classifier),\n",
        "])\n",
        "\n",
        "# Fit pipeline on training data\n",
        "nlu_pipeline.fit(X_train, y_train)\n",
        "\n",
        "# Function to process user input\n",
        "def process_input(user_input):\n",
        "    # Predict intent using NLU pipeline\n",
        "    intent = nlu_pipeline.predict([user_input])[0]\n",
        "\n",
        "    # Generate response based on intent\n",
        "    return generate_response(intent)\n",
        "\n",
        "# Interactive loop to handle user inputs\n",
        "if __name__ == '__main__':\n",
        "    print(\"Bot: Hello! How can I assist you today?\")\n",
        "    while True:\n",
        "        user_input = input(\"User: \")\n",
        "        if user_input.lower() == 'exit':\n",
        "            break\n",
        "\n",
        "        response = process_input(user_input)\n",
        "        print(\"Bot:\", response)\n"
      ],
      "metadata": {
        "colab": {
          "base_uri": "https://localhost:8080/"
        },
        "id": "_AomCXsfE4lh",
        "outputId": "6b26f418-9027-4c61-dbbe-fd5081813075"
      },
      "execution_count": null,
      "outputs": [
        {
          "metadata": {
            "tags": null
          },
          "name": "stdout",
          "output_type": "stream",
          "text": [
            "Bot: Hello! How can I assist you today?\n",
            "Bot: I can help you with your return request. Please provide more details.\n"
          ]
        }
      ]
    }
  ]
}
